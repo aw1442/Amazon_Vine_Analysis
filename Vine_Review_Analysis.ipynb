{
  "nbformat": 4,
  "nbformat_minor": 0,
  "metadata": {
    "colab": {
      "name": "Vine_Review_Analysis.ipynb",
      "provenance": []
    },
    "kernelspec": {
      "display_name": "PythonData",
      "language": "python",
      "name": "pythondata"
    },
    "language_info": {
      "codemirror_mode": {
        "name": "ipython",
        "version": 3
      },
      "file_extension": ".py",
      "mimetype": "text/x-python",
      "name": "python",
      "nbconvert_exporter": "python",
      "pygments_lexer": "ipython3",
      "version": "3.7.7"
    },
    "nteract": {
      "version": "0.12.3"
    }
  },
  "cells": [
    {
      "cell_type": "code",
      "metadata": {
        "id": "V58rxea0HqSa",
        "colab": {
          "base_uri": "https://localhost:8080/"
        },
        "outputId": "7286e3b6-a71b-4289-d1b7-af19f04f4657"
      },
      "source": [
        "import os\n",
        "# Find the latest version of spark 2.0  from http://www-us.apache.org/dist/spark/ and enter as the spark version\n",
        "# For example:\n",
        "# spark_version = 'spark-3.0.0'\n",
        "spark_version = 'spark-3.0.2'\n",
        "os.environ['SPARK_VERSION']=spark_version\n",
        "\n",
        "# Install Spark and Java\n",
        "!apt-get update\n",
        "!apt-get install openjdk-11-jdk-headless -qq > /dev/null\n",
        "!wget -q http://www-us.apache.org/dist/spark/$SPARK_VERSION/$SPARK_VERSION-bin-hadoop2.7.tgz\n",
        "!tar xf $SPARK_VERSION-bin-hadoop2.7.tgz\n",
        "!pip install -q findspark\n",
        "\n",
        "# Set Environment Variables\n",
        "import os\n",
        "os.environ[\"JAVA_HOME\"] = \"/usr/lib/jvm/java-11-openjdk-amd64\"\n",
        "os.environ[\"SPARK_HOME\"] = f\"/content/{spark_version}-bin-hadoop2.7\"\n",
        "\n",
        "# Start a SparkSession\n",
        "import findspark\n",
        "findspark.init()"
      ],
      "execution_count": 1,
      "outputs": [
        {
          "output_type": "stream",
          "text": [
            "\r0% [Working]\r            \rGet:1 https://cloud.r-project.org/bin/linux/ubuntu bionic-cran40/ InRelease [3,626 B]\n",
            "\r0% [Connecting to archive.ubuntu.com (91.189.88.142)] [Connecting to security.u\r0% [Connecting to archive.ubuntu.com (91.189.88.142)] [Connecting to security.u\r0% [1 InRelease gpgv 3,626 B] [Connecting to archive.ubuntu.com (91.189.88.142)\r                                                                               \rIgn:2 https://developer.download.nvidia.com/compute/cuda/repos/ubuntu1804/x86_64  InRelease\n",
            "\r0% [1 InRelease gpgv 3,626 B] [Connecting to archive.ubuntu.com (91.189.88.142)\r                                                                               \rIgn:3 https://developer.download.nvidia.com/compute/machine-learning/repos/ubuntu1804/x86_64  InRelease\n",
            "\r0% [1 InRelease gpgv 3,626 B] [Connecting to archive.ubuntu.com (91.189.88.142)\r                                                                               \rHit:4 https://developer.download.nvidia.com/compute/cuda/repos/ubuntu1804/x86_64  Release\n",
            "\r0% [1 InRelease gpgv 3,626 B] [Connecting to archive.ubuntu.com (91.189.88.142)\r                                                                               \rHit:5 https://developer.download.nvidia.com/compute/machine-learning/repos/ubuntu1804/x86_64  Release\n",
            "Get:6 http://security.ubuntu.com/ubuntu bionic-security InRelease [88.7 kB]\n",
            "Get:7 http://ppa.launchpad.net/c2d4u.team/c2d4u4.0+/ubuntu bionic InRelease [15.9 kB]\n",
            "Hit:8 http://archive.ubuntu.com/ubuntu bionic InRelease\n",
            "Get:9 http://archive.ubuntu.com/ubuntu bionic-updates InRelease [88.7 kB]\n",
            "Hit:12 http://ppa.launchpad.net/cran/libgit2/ubuntu bionic InRelease\n",
            "Get:13 http://archive.ubuntu.com/ubuntu bionic-backports InRelease [74.6 kB]\n",
            "Get:14 http://ppa.launchpad.net/deadsnakes/ppa/ubuntu bionic InRelease [15.9 kB]\n",
            "Get:15 http://security.ubuntu.com/ubuntu bionic-security/restricted amd64 Packages [450 kB]\n",
            "Get:16 http://security.ubuntu.com/ubuntu bionic-security/main amd64 Packages [2,184 kB]\n",
            "Hit:17 http://ppa.launchpad.net/graphics-drivers/ppa/ubuntu bionic InRelease\n",
            "Get:18 http://security.ubuntu.com/ubuntu bionic-security/universe amd64 Packages [1,414 kB]\n",
            "Get:19 http://ppa.launchpad.net/c2d4u.team/c2d4u4.0+/ubuntu bionic/main Sources [1,770 kB]\n",
            "Get:20 http://archive.ubuntu.com/ubuntu bionic-updates/universe amd64 Packages [2,184 kB]\n",
            "Get:21 http://archive.ubuntu.com/ubuntu bionic-updates/restricted amd64 Packages [480 kB]\n",
            "Get:22 http://archive.ubuntu.com/ubuntu bionic-updates/multiverse amd64 Packages [33.5 kB]\n",
            "Get:23 http://archive.ubuntu.com/ubuntu bionic-updates/main amd64 Packages [2,616 kB]\n",
            "Get:24 http://ppa.launchpad.net/c2d4u.team/c2d4u4.0+/ubuntu bionic/main amd64 Packages [906 kB]\n",
            "Get:25 http://ppa.launchpad.net/deadsnakes/ppa/ubuntu bionic/main amd64 Packages [40.9 kB]\n",
            "Fetched 12.4 MB in 4s (2,917 kB/s)\n",
            "Reading package lists... Done\n"
          ],
          "name": "stdout"
        }
      ]
    },
    {
      "cell_type": "code",
      "metadata": {
        "colab": {
          "base_uri": "https://localhost:8080/"
        },
        "id": "LXL8xcxLnJSr",
        "outputId": "400d8e6b-2f90-4c59-dd5b-6c4bd7d08596"
      },
      "source": [
        "!pip install pyspark"
      ],
      "execution_count": 2,
      "outputs": [
        {
          "output_type": "stream",
          "text": [
            "Collecting pyspark\n",
            "\u001b[?25l  Downloading https://files.pythonhosted.org/packages/89/db/e18cfd78e408de957821ec5ca56de1250645b05f8523d169803d8df35a64/pyspark-3.1.2.tar.gz (212.4MB)\n",
            "\u001b[K     |████████████████████████████████| 212.4MB 67kB/s \n",
            "\u001b[?25hCollecting py4j==0.10.9\n",
            "\u001b[?25l  Downloading https://files.pythonhosted.org/packages/9e/b6/6a4fb90cd235dc8e265a6a2067f2a2c99f0d91787f06aca4bcf7c23f3f80/py4j-0.10.9-py2.py3-none-any.whl (198kB)\n",
            "\u001b[K     |████████████████████████████████| 204kB 19.9MB/s \n",
            "\u001b[?25hBuilding wheels for collected packages: pyspark\n",
            "  Building wheel for pyspark (setup.py) ... \u001b[?25l\u001b[?25hdone\n",
            "  Created wheel for pyspark: filename=pyspark-3.1.2-py2.py3-none-any.whl size=212880768 sha256=3fd0a9d8c4944dd049ea706b16516d9d5ac169d7ff0604f03fa6491b99f77959\n",
            "  Stored in directory: /root/.cache/pip/wheels/40/1b/2c/30f43be2627857ab80062bef1527c0128f7b4070b6b2d02139\n",
            "Successfully built pyspark\n",
            "Installing collected packages: py4j, pyspark\n",
            "Successfully installed py4j-0.10.9 pyspark-3.1.2\n"
          ],
          "name": "stdout"
        }
      ]
    },
    {
      "cell_type": "code",
      "metadata": {
        "id": "_xKwTpATHqSe",
        "colab": {
          "base_uri": "https://localhost:8080/"
        },
        "outputId": "d20a0265-5c8e-4471-8ce2-0d1fd1fba015"
      },
      "source": [
        "# Download the Postgres driver that will allow Spark to interact with Postgres.\n",
        "!wget https://jdbc.postgresql.org/download/postgresql-42.2.16.jar"
      ],
      "execution_count": 3,
      "outputs": [
        {
          "output_type": "stream",
          "text": [
            "--2021-06-06 18:01:55--  https://jdbc.postgresql.org/download/postgresql-42.2.16.jar\n",
            "Resolving jdbc.postgresql.org (jdbc.postgresql.org)... 72.32.157.228, 2001:4800:3e1:1::228\n",
            "Connecting to jdbc.postgresql.org (jdbc.postgresql.org)|72.32.157.228|:443... connected.\n",
            "HTTP request sent, awaiting response... 200 OK\n",
            "Length: 1002883 (979K) [application/java-archive]\n",
            "Saving to: ‘postgresql-42.2.16.jar’\n",
            "\n",
            "postgresql-42.2.16. 100%[===================>] 979.38K  4.66MB/s    in 0.2s    \n",
            "\n",
            "2021-06-06 18:01:55 (4.66 MB/s) - ‘postgresql-42.2.16.jar’ saved [1002883/1002883]\n",
            "\n"
          ],
          "name": "stdout"
        }
      ]
    },
    {
      "cell_type": "code",
      "metadata": {
        "id": "MMqDAjVS0KN9"
      },
      "source": [
        "from pyspark.sql import SparkSession\n",
        "spark = SparkSession.builder.appName(\"BigData-Challenge\").config(\"spark.driver.extraClassPath\",\"/content/postgresql-42.2.16.jar\").getOrCreate()"
      ],
      "execution_count": 4,
      "outputs": []
    },
    {
      "cell_type": "markdown",
      "metadata": {
        "id": "cyBsySGuY-9V"
      },
      "source": [
        "### Load Amazon Data into Spark DataFrame"
      ]
    },
    {
      "cell_type": "code",
      "metadata": {
        "id": "CtCmBhQJY-9Z",
        "colab": {
          "base_uri": "https://localhost:8080/"
        },
        "outputId": "6d90358a-03fd-4230-b256-f8a67182acba"
      },
      "source": [
        "from pyspark import SparkFiles\n",
        "url = \"https://s3.amazonaws.com/amazon-reviews-pds/tsv/amazon_reviews_us_Furniture_v1_00.tsv.gz\"\n",
        "spark.sparkContext.addFile(url)\n",
        "df = spark.read.option(\"encoding\", \"UTF-8\").csv(SparkFiles.get(\"amazon_reviews_us_Furniture_v1_00.tsv.gz\"), sep=\"\\t\", header=True, inferSchema=True)\n",
        "df.show()"
      ],
      "execution_count": 5,
      "outputs": [
        {
          "output_type": "stream",
          "text": [
            "+-----------+-----------+--------------+----------+--------------+--------------------+----------------+-----------+-------------+-----------+----+-----------------+--------------------+--------------------+-----------+\n",
            "|marketplace|customer_id|     review_id|product_id|product_parent|       product_title|product_category|star_rating|helpful_votes|total_votes|vine|verified_purchase|     review_headline|         review_body|review_date|\n",
            "+-----------+-----------+--------------+----------+--------------+--------------------+----------------+-----------+-------------+-----------+----+-----------------+--------------------+--------------------+-----------+\n",
            "|         US|   24509695|R3VR960AHLFKDV|B004HB5E0E|     488241329|Shoal Creek Compu...|       Furniture|          4|            0|          0|   N|                Y|... desk is very ...|This desk is very...| 2015-08-31|\n",
            "|         US|   34731776|R16LGVMFKIUT0G|B0042TNMMS|     205864445|Dorel Home Produc...|       Furniture|          5|            0|          0|   N|                Y|          Five Stars|          Great item| 2015-08-31|\n",
            "|         US|    1272331|R1AIMEEPYHMOE4|B0030MPBZ4|     124663823|Bathroom Vanity T...|       Furniture|          5|            1|          1|   N|                Y|          Five Stars|Perfect fit for m...| 2015-08-31|\n",
            "|         US|   45284262|R1892CCSZWZ9SR|B005G02ESA|     382367578|Sleep Master Ulti...|       Furniture|          3|            0|          0|   N|                Y|         Good enough|We use this on a ...| 2015-08-31|\n",
            "|         US|   30003523|R285P679YWVKD1|B005JS8AUA|     309497463|1 1/4\" GashGuards...|       Furniture|          3|            0|          0|   N|                N|Gash Gards for da...|The product is fi...| 2015-08-31|\n",
            "|         US|   18311821| RLB33HJBXHZHU|B00AVUQQGQ|     574537906|Serta Bonded Leat...|       Furniture|          5|            0|          0|   N|                Y|          Five Stars|Love this product...| 2015-08-31|\n",
            "|         US|   42943632|R1VGTZ94DBAD6A|B00CFY20GQ|     407473883|Prepac Shoe Stora...|       Furniture|          5|            2|          2|   N|                Y|   I love this bench|I love this bench...| 2015-08-31|\n",
            "|         US|   43157304|R168KF82ICSOHD|B00FKC48QA|     435120460|HomCom PU Leather...|       Furniture|          5|            0|          0|   N|                Y|Great storage cap...|Have had this for...| 2015-08-31|\n",
            "|         US|   51918480|R20DIYIJ0OCMOG|B00N9IAL9K|     356495985|  Folding Step Stool|       Furniture|          5|            0|          0|   N|                Y|This is the best ...|This is the best ...| 2015-08-31|\n",
            "|         US|   14522766| RD46RNVOHNZSC|B001T4XU1C|     243050228|Ace Bayou Adult V...|       Furniture|          5|            0|          0|   N|                Y|    great for price!|    my son loves it!| 2015-08-31|\n",
            "|         US|   43054112|R2JDOCETTM3AXS|B002HRFLBC|      93574483|4D Concepts Audio...|       Furniture|          5|            0|          0|   N|                Y|          Five Stars|       Great product| 2015-08-31|\n",
            "|         US|   26622950|R33YMW36IDZ6LE|B006MISZOC|     941823468|Zinus SC-SBBK-14N...|       Furniture|          5|            0|          0|   N|                Y|             perfect|bought with sleep...| 2015-08-31|\n",
            "|         US|   17988940|R30ZGGUHZ04C1S|B008BMGABC|     460567746|Poundex Marble Di...|       Furniture|          5|            1|          1|   N|                Y|   Very satisfied!!!|Delivery was on t...| 2015-08-31|\n",
            "|         US|   18444952| RS2EZU76IK2BT|B00CO2VH5Y|     829613894|Safavieh Lyndhurs...|       Furniture|          5|            0|          0|   N|                Y|soft and great fo...|Exactly as pictur...| 2015-08-31|\n",
            "|         US|   16937084|R1GJC1BP028XO9|B00LI4RJQ0|     816478187|Sauder Boone Moun...|       Furniture|          5|            2|          3|   N|                Y|        Great table.|Beautiful table. ...| 2015-08-31|\n",
            "|         US|   23665632|R2VKJPGXXEK5GP|B0046EC1D0|     358594389|Winsome Wood Brea...|       Furniture|          1|            0|          0|   N|                Y|Not what I expect...|I have cleaned up...| 2015-08-31|\n",
            "|         US|    4110125|R17KS83G3KLT97|B00DQQPL36|     312571325|HODEDAH IMPORT Me...|       Furniture|          3|            0|          0|   N|                Y|         Three Stars|First one came in...| 2015-08-31|\n",
            "|         US|     107621|R3PQL8SR4NEHWL|B003X7RWB2|     402665054|Flash Furniture H...|       Furniture|          4|            0|          0|   N|                Y|          Four Stars|Good deal to get ...| 2015-08-31|\n",
            "|         US|    2415090|R2F5WW7WNO5RRG|B001TJYPJ8|     854989315|Sleep Revolution ...|       Furniture|          5|            0|          0|   N|                Y|          Five Stars|Comfortable and e...| 2015-08-31|\n",
            "|         US|   48285966|R3UDJKVWQCFIC9|B000TMHX9A|     814079288|Flash Furniture V...|       Furniture|          5|            0|          0|   N|                Y|Very comfortable....|As advertised. Ve...| 2015-08-31|\n",
            "+-----------+-----------+--------------+----------+--------------+--------------------+----------------+-----------+-------------+-----------+----+-----------------+--------------------+--------------------+-----------+\n",
            "only showing top 20 rows\n",
            "\n"
          ],
          "name": "stdout"
        }
      ]
    },
    {
      "cell_type": "markdown",
      "metadata": {
        "id": "2yUSe55VY-9t"
      },
      "source": [
        "### Deliverable 2"
      ]
    },
    {
      "cell_type": "code",
      "metadata": {
        "id": "C8REmY1aY-9u",
        "colab": {
          "base_uri": "https://localhost:8080/"
        },
        "outputId": "f6300e33-44d1-4e0d-e014-003c9cac61ee"
      },
      "source": [
        "# Filter the data and create a new DataFrame or table to retrieve all the rows where the total_votes count is equal to or greater than 20 to pick reviews that are more likely to be helpful and to avoid having division by zero errors later on\n",
        "totalvotes_df = df.filter(\"total_votes>=20\")\n",
        "totalvotes_df.show()"
      ],
      "execution_count": 6,
      "outputs": [
        {
          "output_type": "stream",
          "text": [
            "+-----------+-----------+--------------+----------+--------------+--------------------+----------------+-----------+-------------+-----------+----+-----------------+--------------------+--------------------+-----------+\n",
            "|marketplace|customer_id|     review_id|product_id|product_parent|       product_title|product_category|star_rating|helpful_votes|total_votes|vine|verified_purchase|     review_headline|         review_body|review_date|\n",
            "+-----------+-----------+--------------+----------+--------------+--------------------+----------------+-----------+-------------+-----------+----+-----------------+--------------------+--------------------+-----------+\n",
            "|         US|   41681546| RL8D0KJ0J9L0O|B00BWC1X3S|     328960153|Zinus 14 Inch Eli...|       Furniture|          5|          152|        165|   N|                Y|A solid VICTORY f...|I've been looking...| 2015-08-31|\n",
            "|         US|   16806846|R1BEINAIQFBRJC|B007I81A60|      68465765|8\" Night Therapy ...|       Furniture|          5|           21|         23|   N|                Y|An Engineering Su...|A full size mattr...| 2015-08-31|\n",
            "|         US|   17820936|R2L59KIJH302P9|B007QULII0|     812343799|LexMod Stencil Di...|       Furniture|          4|           26|         26|   N|                Y|     Love this chair|Love this chair, ...| 2015-08-31|\n",
            "|         US|   50476494| RR99CPG695T0I|B013L4ZWWW|     124365349|Arctic Dreams 10\"...|       Furniture|          5|          215|        248|   N|                N| QUALITY* SLEEP!!!!!|I decided to get ...| 2015-08-31|\n",
            "|         US|   21846903|R1XQNKKUPCMWVO|B00IPN64CC|     867520220|Upholstered Platf...|       Furniture|          5|           43|         44|   N|                Y|Black Tufted Desi...|I have to admit t...| 2015-08-31|\n",
            "|         US|   36021042|R3JUXVCT1NSK2A|B003PSNAI8|     219454481|Fashion Bed Group...|       Furniture|          3|           25|         26|   N|                Y|Works but has odd...|Fully assembled i...| 2015-08-31|\n",
            "|         US|    2067832|R3GNSIFV1J2Y2B|B008RKOL9G|     589861187|Big Joe Media Lou...|       Furniture|          1|           15|         60|   N|                N|   Very disappointed|The chair itself ...| 2015-08-31|\n",
            "|         US|   15624624| RTCRZARYY4LXX|B00E97HPLW|     132456290|Flash Furniture M...|       Furniture|          5|           52|         54|   N|                Y|comfortable/easy ...|Everything I expe...| 2015-08-31|\n",
            "|         US|   13214979|R3OFB4P7Y8WR27|B00QBZ25R4|     637686095|Tuft & Needle Mat...|       Furniture|          1|           15|         26|   N|                Y|Most painful matt...|This product was ...| 2015-08-31|\n",
            "|         US|   37722720|R3MTAYGQM25N63|B007J0E7WQ|     562508640|Target Marketing ...|       Furniture|          4|           58|         59|   N|                Y|Good little cabin...|Purchased this on...| 2015-08-31|\n",
            "|         US|   31278317| RJNDSWES5ISZ7|B00HTUOOBA|     995797488|Chrome Metal Bar ...|       Furniture|          5|           78|         79|   N|                Y|             AMAZING|this is a very be...| 2015-08-31|\n",
            "|         US|   21515203|R15R7STOZZP2A4|B002V1Q65Y|     320882925|Coaster Company P...|       Furniture|          5|           33|         34|   N|                Y|         Great deal!|Good quality bed....| 2015-08-31|\n",
            "|         US|   48672213|R33V5WV529NK8E|B00MULXWMU|     491669252|Modway Annabel Tw...|       Furniture|          4|           30|         32|   N|                Y|           Worth it!|Great quality for...| 2015-08-31|\n",
            "|         US|   50914859| RIR9ZI3L80P7P|B00T3MUB4Q|      76857765|WinkBeds - Mattre...|       Furniture|          3|           72|         76|   N|                N|Disappointed - re...|**** UPDATED 02-2...| 2015-08-31|\n",
            "|         US|    7691605|R10P6SDC1D6C3I|B00LZM5IOK|     420170495|Modway Lily Twin ...|       Furniture|          5|           23|         25|   N|                Y|Like it! My bed i...|Like it ! My bed ...| 2015-08-31|\n",
            "|         US|   46509642|R110G9UVLI2MLS|B00OKIPS0A|     415535727|Milton Greens Sta...|       Furniture|          5|           52|         55|   N|                Y|             Lovely!|For those living ...| 2015-08-31|\n",
            "|         US|   47359106|R1I4LN1WR3YVJX|B00NUS5D4C|     148579574|AmazonBasics 5-Sh...|       Furniture|          1|           31|         40|   N|                Y|Cheap and frustra...|Cheap product, on...| 2015-08-31|\n",
            "|         US|   23511203|R1B76MPCS05UX9|B00P7RWWM0|     259554464|Mega Motion Easy ...|       Furniture|          5|           19|         21|   N|                Y|Great chair, Don'...|Ok this chair is ...| 2015-08-31|\n",
            "|         US|    6407891|R17PJIKAZ3U6BG|B00DW7LB0G|     366981061|Simpli Home Lared...|       Furniture|          5|           21|         21|   N|                Y|I love this beaut...|We love this benc...| 2015-08-30|\n",
            "|         US|    8113934|R2T3TLCX42RWLY|B009V5YVT6|     598492986|AVE SIX Reflectio...|       Furniture|          5|           46|         48|   N|                Y|      Beyond happy!!|Honestly, a pictu...| 2015-08-30|\n",
            "+-----------+-----------+--------------+----------+--------------+--------------------+----------------+-----------+-------------+-----------+----+-----------------+--------------------+--------------------+-----------+\n",
            "only showing top 20 rows\n",
            "\n"
          ],
          "name": "stdout"
        }
      ]
    },
    {
      "cell_type": "code",
      "metadata": {
        "id": "B0TESUDRY-90",
        "colab": {
          "base_uri": "https://localhost:8080/"
        },
        "outputId": "bf1b1edb-4a56-4ab2-f751-dcc9363c9256"
      },
      "source": [
        "# Filter the new DataFrame or table created in Step 1 and create a new DataFrame or table to retrieve all the rows where the number of helpful_votes divided by total_votes is equal to or greater than 50%\n",
        "helpful_50_df = totalvotes_df.filter(\"helpful_votes/total_votes>=.50\")\n",
        "helpful_50_df.show()"
      ],
      "execution_count": 7,
      "outputs": [
        {
          "output_type": "stream",
          "text": [
            "+-----------+-----------+--------------+----------+--------------+--------------------+----------------+-----------+-------------+-----------+----+-----------------+--------------------+--------------------+-----------+\n",
            "|marketplace|customer_id|     review_id|product_id|product_parent|       product_title|product_category|star_rating|helpful_votes|total_votes|vine|verified_purchase|     review_headline|         review_body|review_date|\n",
            "+-----------+-----------+--------------+----------+--------------+--------------------+----------------+-----------+-------------+-----------+----+-----------------+--------------------+--------------------+-----------+\n",
            "|         US|   41681546| RL8D0KJ0J9L0O|B00BWC1X3S|     328960153|Zinus 14 Inch Eli...|       Furniture|          5|          152|        165|   N|                Y|A solid VICTORY f...|I've been looking...| 2015-08-31|\n",
            "|         US|   16806846|R1BEINAIQFBRJC|B007I81A60|      68465765|8\" Night Therapy ...|       Furniture|          5|           21|         23|   N|                Y|An Engineering Su...|A full size mattr...| 2015-08-31|\n",
            "|         US|   17820936|R2L59KIJH302P9|B007QULII0|     812343799|LexMod Stencil Di...|       Furniture|          4|           26|         26|   N|                Y|     Love this chair|Love this chair, ...| 2015-08-31|\n",
            "|         US|   50476494| RR99CPG695T0I|B013L4ZWWW|     124365349|Arctic Dreams 10\"...|       Furniture|          5|          215|        248|   N|                N| QUALITY* SLEEP!!!!!|I decided to get ...| 2015-08-31|\n",
            "|         US|   21846903|R1XQNKKUPCMWVO|B00IPN64CC|     867520220|Upholstered Platf...|       Furniture|          5|           43|         44|   N|                Y|Black Tufted Desi...|I have to admit t...| 2015-08-31|\n",
            "|         US|   36021042|R3JUXVCT1NSK2A|B003PSNAI8|     219454481|Fashion Bed Group...|       Furniture|          3|           25|         26|   N|                Y|Works but has odd...|Fully assembled i...| 2015-08-31|\n",
            "|         US|   15624624| RTCRZARYY4LXX|B00E97HPLW|     132456290|Flash Furniture M...|       Furniture|          5|           52|         54|   N|                Y|comfortable/easy ...|Everything I expe...| 2015-08-31|\n",
            "|         US|   13214979|R3OFB4P7Y8WR27|B00QBZ25R4|     637686095|Tuft & Needle Mat...|       Furniture|          1|           15|         26|   N|                Y|Most painful matt...|This product was ...| 2015-08-31|\n",
            "|         US|   37722720|R3MTAYGQM25N63|B007J0E7WQ|     562508640|Target Marketing ...|       Furniture|          4|           58|         59|   N|                Y|Good little cabin...|Purchased this on...| 2015-08-31|\n",
            "|         US|   31278317| RJNDSWES5ISZ7|B00HTUOOBA|     995797488|Chrome Metal Bar ...|       Furniture|          5|           78|         79|   N|                Y|             AMAZING|this is a very be...| 2015-08-31|\n",
            "|         US|   21515203|R15R7STOZZP2A4|B002V1Q65Y|     320882925|Coaster Company P...|       Furniture|          5|           33|         34|   N|                Y|         Great deal!|Good quality bed....| 2015-08-31|\n",
            "|         US|   48672213|R33V5WV529NK8E|B00MULXWMU|     491669252|Modway Annabel Tw...|       Furniture|          4|           30|         32|   N|                Y|           Worth it!|Great quality for...| 2015-08-31|\n",
            "|         US|   50914859| RIR9ZI3L80P7P|B00T3MUB4Q|      76857765|WinkBeds - Mattre...|       Furniture|          3|           72|         76|   N|                N|Disappointed - re...|**** UPDATED 02-2...| 2015-08-31|\n",
            "|         US|    7691605|R10P6SDC1D6C3I|B00LZM5IOK|     420170495|Modway Lily Twin ...|       Furniture|          5|           23|         25|   N|                Y|Like it! My bed i...|Like it ! My bed ...| 2015-08-31|\n",
            "|         US|   46509642|R110G9UVLI2MLS|B00OKIPS0A|     415535727|Milton Greens Sta...|       Furniture|          5|           52|         55|   N|                Y|             Lovely!|For those living ...| 2015-08-31|\n",
            "|         US|   47359106|R1I4LN1WR3YVJX|B00NUS5D4C|     148579574|AmazonBasics 5-Sh...|       Furniture|          1|           31|         40|   N|                Y|Cheap and frustra...|Cheap product, on...| 2015-08-31|\n",
            "|         US|   23511203|R1B76MPCS05UX9|B00P7RWWM0|     259554464|Mega Motion Easy ...|       Furniture|          5|           19|         21|   N|                Y|Great chair, Don'...|Ok this chair is ...| 2015-08-31|\n",
            "|         US|    6407891|R17PJIKAZ3U6BG|B00DW7LB0G|     366981061|Simpli Home Lared...|       Furniture|          5|           21|         21|   N|                Y|I love this beaut...|We love this benc...| 2015-08-30|\n",
            "|         US|    8113934|R2T3TLCX42RWLY|B009V5YVT6|     598492986|AVE SIX Reflectio...|       Furniture|          5|           46|         48|   N|                Y|      Beyond happy!!|Honestly, a pictu...| 2015-08-30|\n",
            "|         US|   48960668|R39YWJ09ZCPW7P|B00UXRSDF4|     949941628|2xhome - Black - ...|       Furniture|          5|           24|         28|   N|                Y|          Five Stars|Great chair great...| 2015-08-30|\n",
            "+-----------+-----------+--------------+----------+--------------+--------------------+----------------+-----------+-------------+-----------+----+-----------------+--------------------+--------------------+-----------+\n",
            "only showing top 20 rows\n",
            "\n"
          ],
          "name": "stdout"
        }
      ]
    },
    {
      "cell_type": "code",
      "metadata": {
        "colab": {
          "base_uri": "https://localhost:8080/"
        },
        "id": "yJnqVmacosP8",
        "outputId": "6044b40e-c05d-463b-dc58-5e176564d1cc"
      },
      "source": [
        "print(helpful_50_df.count())"
      ],
      "execution_count": 8,
      "outputs": [
        {
          "output_type": "stream",
          "text": [
            "18155\n"
          ],
          "name": "stdout"
        }
      ]
    },
    {
      "cell_type": "code",
      "metadata": {
        "id": "4FwXA6UvY-96",
        "colab": {
          "base_uri": "https://localhost:8080/"
        },
        "outputId": "ea665c94-5363-4590-b68c-c2379060d03a"
      },
      "source": [
        "# Filter the DataFrame or table created in Step 2, and create a new DataFrame or table that retrieves all the rows where a review was written as part of the Vine program (paid), vine == 'Y'\n",
        "vine_review_df = helpful_50_df.filter(helpful_50_df[\"vine\"] == \"Y\")\n",
        "vine_review_df.show()"
      ],
      "execution_count": 9,
      "outputs": [
        {
          "output_type": "stream",
          "text": [
            "+-----------+-----------+--------------+----------+--------------+--------------------+----------------+-----------+-------------+-----------+----+-----------------+--------------------+--------------------+-----------+\n",
            "|marketplace|customer_id|     review_id|product_id|product_parent|       product_title|product_category|star_rating|helpful_votes|total_votes|vine|verified_purchase|     review_headline|         review_body|review_date|\n",
            "+-----------+-----------+--------------+----------+--------------+--------------------+----------------+-----------+-------------+-----------+----+-----------------+--------------------+--------------------+-----------+\n",
            "|         US|   35119071|R2BQOD1R0228FN|B00H2RSA88|     405483618|Sleep Innovations...|       Furniture|          3|           17|         26|   Y|                N|An okay product. ...|Three-stars is co...| 2015-08-27|\n",
            "|         US|   44737123| RC31RUPFOHBHQ|B0125QZ50G|     350975212|Zinus Viscolatex ...|       Furniture|          4|          102|        117|   Y|                N| Comfort and Support|I have not tried ...| 2015-08-24|\n",
            "|         US|   51369093| REN3N1WITLF1Y|B00S5EI4C4|     153136932|Brentwood Home S-...|       Furniture|          5|           33|         37|   Y|                N|       Pros and Cons|4.5 stars<br /><b...| 2015-08-20|\n",
            "|         US|   49598970| R71RZQ9UZVG47|B00H2RSA88|     405483618|Sleep Innovations...|       Furniture|          4|           38|         47|   Y|                N|Great memory foam...|This is a good me...| 2015-08-19|\n",
            "|         US|   50507621|R38NMQBH88HLM6|B00H2RSA88|     405483618|Sleep Innovations...|       Furniture|          4|           18|         24|   Y|                N|Firm......VERY fi...|Always wanted a m...| 2015-08-17|\n",
            "|         US|   44737123|R33FGX9EE3QVR6|B00K7G8M34|     291701473|Fashion Bed Group...|       Furniture|          4|           26|         26|   Y|                N|Solid, Smooth & Q...|This is our first...| 2015-08-08|\n",
            "|         US|   17957446|R1KIOIK6WEYE59|B00ZY8DOCY|     858354913|Harmony Ergonomic...|       Furniture|          3|           19|         20|   Y|                N|Great Idea, Disap...|When I saw this i...| 2015-07-19|\n",
            "|         US|   42483100|R25X9BMOB3FD0E|B00S5EI4C4|     153136932|Brentwood Home S-...|       Furniture|          4|           32|         37|   Y|                N|My 4th latex matt...|The liner is made...| 2015-07-19|\n",
            "|         US|   52464985|R3VCKFCX2377Q2|B00Y4BGT06|     383077572|Sleep Innovations...|       Furniture|          4|           95|        101|   Y|                N|A Nest For One or...|This is a two pie...| 2015-07-04|\n",
            "|         US|   46266548|R1E0OUG63HMSM4|B00Y4BGT06|     383077572|Sleep Innovations...|       Furniture|          3|           58|         61|   Y|                N|A thoughtful prod...|We're great fans ...| 2015-07-02|\n",
            "|         US|   51923814|R1V45RUW5ZB3LS|B00WO0S5EM|     720135802|Serta Pearce Firm...|       Furniture|          4|           19|         21|   Y|                N|Reluctant Memory ...|I was impressed w...| 2015-07-01|\n",
            "|         US|   52862683| RTF6DSZ1UTLHH|B00LJ7D280|     576833455|Classic Brands Gr...|       Furniture|          5|          401|        418|   Y|                N|So comfortable, a...|[[VIDEOID:2ff2135...| 2015-06-23|\n",
            "|         US|   51903105|R1CZV9N2YLJAP7|B00LJ7D280|     576833455|Classic Brands Gr...|       Furniture|          5|          123|        136|   Y|                Y|I am loving this ...|UPDATE: As I wrot...| 2015-06-21|\n",
            "|         US|   35575415|R1OF3X9W99Y300|B00LJ7D280|     576833455|Classic Brands Gr...|       Furniture|          4|           27|         35|   Y|                N|Soft-Med firmness...|[[VIDEOID:dcb995d...| 2015-06-20|\n",
            "|         US|   51956455|R1JYKEH4CQVJ1B|B00LJ7D280|     576833455|Classic Brands Gr...|       Furniture|          5|           22|         23|   Y|                N|Sorry for writing...|1) The Competitio...| 2015-06-18|\n",
            "|         US|   37982975|R1093XVB0H2QOL|B00Y4BGT06|     383077572|Sleep Innovations...|       Furniture|          4|           51|         54|   Y|                N|Sleeping on a clo...|I swear by foam m...| 2015-06-12|\n",
            "|         US|   22656237|R3Q81B31F1CPGH|B00P21TAIK|     298322939|Chill Sack Bean B...|       Furniture|          3|           50|         55|   Y|                N|             Massive|If there's only o...| 2015-06-02|\n",
            "|         US|   34160155|R2P6XIZZPJF7AE|B00P21TAIK|     298322939|Chill Sack Bean B...|       Furniture|          5|           46|         51|   Y|                N|Humans or cats ca...|Chill Bag is the ...| 2015-05-28|\n",
            "|         US|   33167968|R3N5S06UW5MKFE|B00UVAJUBO|     584650655|Classic Brands 10...|       Furniture|          3|          907|        925|   Y|                N|3 inches of real ...|If I have $400 to...| 2015-05-23|\n",
            "|         US|   52846213|R3J9EJCVKFCRWO|B00UA8TD6O|      78126929|Safavieh Tranquil...|       Furniture|          5|           18|         20|   Y|                N|Quality, Comfort ...|Whoever thought t...| 2015-05-20|\n",
            "+-----------+-----------+--------------+----------+--------------+--------------------+----------------+-----------+-------------+-----------+----+-----------------+--------------------+--------------------+-----------+\n",
            "only showing top 20 rows\n",
            "\n"
          ],
          "name": "stdout"
        }
      ]
    },
    {
      "cell_type": "code",
      "metadata": {
        "id": "MkqyCuNQY-9-",
        "colab": {
          "base_uri": "https://localhost:8080/"
        },
        "outputId": "d67d1f6c-bd69-4e8c-9cb4-7f70a25e5f88"
      },
      "source": [
        "# Repeat Step 3, but this time retrieve all the rows where the review was not part of the Vine program (unpaid), vine == 'N'\n",
        "novine_review_df = helpful_50_df.filter(helpful_50_df[\"vine\"] == \"N\")\n",
        "novine_review_df.show()"
      ],
      "execution_count": 10,
      "outputs": [
        {
          "output_type": "stream",
          "text": [
            "+-----------+-----------+--------------+----------+--------------+--------------------+----------------+-----------+-------------+-----------+----+-----------------+--------------------+--------------------+-----------+\n",
            "|marketplace|customer_id|     review_id|product_id|product_parent|       product_title|product_category|star_rating|helpful_votes|total_votes|vine|verified_purchase|     review_headline|         review_body|review_date|\n",
            "+-----------+-----------+--------------+----------+--------------+--------------------+----------------+-----------+-------------+-----------+----+-----------------+--------------------+--------------------+-----------+\n",
            "|         US|   41681546| RL8D0KJ0J9L0O|B00BWC1X3S|     328960153|Zinus 14 Inch Eli...|       Furniture|          5|          152|        165|   N|                Y|A solid VICTORY f...|I've been looking...| 2015-08-31|\n",
            "|         US|   16806846|R1BEINAIQFBRJC|B007I81A60|      68465765|8\" Night Therapy ...|       Furniture|          5|           21|         23|   N|                Y|An Engineering Su...|A full size mattr...| 2015-08-31|\n",
            "|         US|   17820936|R2L59KIJH302P9|B007QULII0|     812343799|LexMod Stencil Di...|       Furniture|          4|           26|         26|   N|                Y|     Love this chair|Love this chair, ...| 2015-08-31|\n",
            "|         US|   50476494| RR99CPG695T0I|B013L4ZWWW|     124365349|Arctic Dreams 10\"...|       Furniture|          5|          215|        248|   N|                N| QUALITY* SLEEP!!!!!|I decided to get ...| 2015-08-31|\n",
            "|         US|   21846903|R1XQNKKUPCMWVO|B00IPN64CC|     867520220|Upholstered Platf...|       Furniture|          5|           43|         44|   N|                Y|Black Tufted Desi...|I have to admit t...| 2015-08-31|\n",
            "|         US|   36021042|R3JUXVCT1NSK2A|B003PSNAI8|     219454481|Fashion Bed Group...|       Furniture|          3|           25|         26|   N|                Y|Works but has odd...|Fully assembled i...| 2015-08-31|\n",
            "|         US|   15624624| RTCRZARYY4LXX|B00E97HPLW|     132456290|Flash Furniture M...|       Furniture|          5|           52|         54|   N|                Y|comfortable/easy ...|Everything I expe...| 2015-08-31|\n",
            "|         US|   13214979|R3OFB4P7Y8WR27|B00QBZ25R4|     637686095|Tuft & Needle Mat...|       Furniture|          1|           15|         26|   N|                Y|Most painful matt...|This product was ...| 2015-08-31|\n",
            "|         US|   37722720|R3MTAYGQM25N63|B007J0E7WQ|     562508640|Target Marketing ...|       Furniture|          4|           58|         59|   N|                Y|Good little cabin...|Purchased this on...| 2015-08-31|\n",
            "|         US|   31278317| RJNDSWES5ISZ7|B00HTUOOBA|     995797488|Chrome Metal Bar ...|       Furniture|          5|           78|         79|   N|                Y|             AMAZING|this is a very be...| 2015-08-31|\n",
            "|         US|   21515203|R15R7STOZZP2A4|B002V1Q65Y|     320882925|Coaster Company P...|       Furniture|          5|           33|         34|   N|                Y|         Great deal!|Good quality bed....| 2015-08-31|\n",
            "|         US|   48672213|R33V5WV529NK8E|B00MULXWMU|     491669252|Modway Annabel Tw...|       Furniture|          4|           30|         32|   N|                Y|           Worth it!|Great quality for...| 2015-08-31|\n",
            "|         US|   50914859| RIR9ZI3L80P7P|B00T3MUB4Q|      76857765|WinkBeds - Mattre...|       Furniture|          3|           72|         76|   N|                N|Disappointed - re...|**** UPDATED 02-2...| 2015-08-31|\n",
            "|         US|    7691605|R10P6SDC1D6C3I|B00LZM5IOK|     420170495|Modway Lily Twin ...|       Furniture|          5|           23|         25|   N|                Y|Like it! My bed i...|Like it ! My bed ...| 2015-08-31|\n",
            "|         US|   46509642|R110G9UVLI2MLS|B00OKIPS0A|     415535727|Milton Greens Sta...|       Furniture|          5|           52|         55|   N|                Y|             Lovely!|For those living ...| 2015-08-31|\n",
            "|         US|   47359106|R1I4LN1WR3YVJX|B00NUS5D4C|     148579574|AmazonBasics 5-Sh...|       Furniture|          1|           31|         40|   N|                Y|Cheap and frustra...|Cheap product, on...| 2015-08-31|\n",
            "|         US|   23511203|R1B76MPCS05UX9|B00P7RWWM0|     259554464|Mega Motion Easy ...|       Furniture|          5|           19|         21|   N|                Y|Great chair, Don'...|Ok this chair is ...| 2015-08-31|\n",
            "|         US|    6407891|R17PJIKAZ3U6BG|B00DW7LB0G|     366981061|Simpli Home Lared...|       Furniture|          5|           21|         21|   N|                Y|I love this beaut...|We love this benc...| 2015-08-30|\n",
            "|         US|    8113934|R2T3TLCX42RWLY|B009V5YVT6|     598492986|AVE SIX Reflectio...|       Furniture|          5|           46|         48|   N|                Y|      Beyond happy!!|Honestly, a pictu...| 2015-08-30|\n",
            "|         US|   48960668|R39YWJ09ZCPW7P|B00UXRSDF4|     949941628|2xhome - Black - ...|       Furniture|          5|           24|         28|   N|                Y|          Five Stars|Great chair great...| 2015-08-30|\n",
            "+-----------+-----------+--------------+----------+--------------+--------------------+----------------+-----------+-------------+-----------+----+-----------------+--------------------+--------------------+-----------+\n",
            "only showing top 20 rows\n",
            "\n"
          ],
          "name": "stdout"
        }
      ]
    },
    {
      "cell_type": "code",
      "metadata": {
        "id": "lzMmkdKmY--D",
        "colab": {
          "base_uri": "https://localhost:8080/"
        },
        "outputId": "9c37e0ca-b788-49f3-c4cb-8b102e1ff96d"
      },
      "source": [
        "from pyspark.sql.functions import count\n",
        "# Total number of reviews for each dataframe from Step 3 and Step 4:\n",
        "vine_review_count = vine_review_df.count()\n",
        "print(\"Total Number of Reviews PAID and 'helpful': %f\" % vine_review_count)\n",
        "\n",
        "novine_review_count = novine_review_df.count()\n",
        "print(\"Total Number of Reviews NON-PAID and 'helpful': %f\" % novine_review_count)"
      ],
      "execution_count": 11,
      "outputs": [
        {
          "output_type": "stream",
          "text": [
            "Total Number of Reviews PAID and 'helpful': 136.000000\n",
            "Total Number of Reviews NON-PAID and 'helpful': 18019.000000\n"
          ],
          "name": "stdout"
        }
      ]
    },
    {
      "cell_type": "code",
      "metadata": {
        "colab": {
          "base_uri": "https://localhost:8080/"
        },
        "id": "0M4swtY5ptTl",
        "outputId": "63b46b0f-a4b1-40bd-e825-51c1a255c01d"
      },
      "source": [
        "# Number of 5-star Reviews for above Paid and Non-Paid dataframes\n",
        "star5_vine_df = vine_review_df.filter(novine_review_df[\"star_rating\"]==\"5\")\n",
        "print(\"Total Number of 5-star Reviews PAID and 'helpful': %f\" % star5_vine_df.count())\n",
        "\n",
        "star5_novine_df = novine_review_df.filter(novine_review_df[\"star_rating\"]==\"5\")\n",
        "print(\"Total Number of 5-star Reviews NON-PAID and 'helpful': %f\" % star5_novine_df.count())"
      ],
      "execution_count": 12,
      "outputs": [
        {
          "output_type": "stream",
          "text": [
            "Total Number of 5-star Reviews PAID and 'helpful': 74.000000\n",
            "Total Number of 5-star Reviews NON-PAID and 'helpful': 8482.000000\n"
          ],
          "name": "stdout"
        }
      ]
    },
    {
      "cell_type": "code",
      "metadata": {
        "colab": {
          "base_uri": "https://localhost:8080/"
        },
        "id": "-m0ybvssf5L8",
        "outputId": "be1297ec-6cf6-47fc-fad0-256ba8161af1"
      },
      "source": [
        "# Percentage of 5-star Reviews for above Paid and Non-Paid dataframes\n",
        "star5_vine_pct = (star5_vine_df.count()/vine_review_count)\n",
        "print(\"Percent of 5-Star Furniture Reviews from PAID, 'helpful' dataset: %f\" % star5_vine_pct)\n",
        "\n",
        "star5_novine_pct = (star5_novine_df.count()/novine_review_count)\n",
        "print(\"Percent of 5-Star Furniture Reviews from NON-PAID, 'helpful' dataset: %f\" % star5_novine_pct)"
      ],
      "execution_count": 18,
      "outputs": [
        {
          "output_type": "stream",
          "text": [
            "Percent of 5-Star Furniture Reviews from PAID, 'helpful' dataset: 0.544118\n",
            "Percent of 5-Star Furniture Reviews from NON-PAID, 'helpful' dataset: 0.470725\n"
          ],
          "name": "stdout"
        }
      ]
    },
    {
      "cell_type": "code",
      "metadata": {
        "colab": {
          "base_uri": "https://localhost:8080/"
        },
        "id": "J5a36V9kf_U3",
        "outputId": "6882b798-67aa-41dc-dd37-defb79f38506"
      },
      "source": [
        "# Total number of ALL reviews\n",
        "total_reviews_count = df.count()\n",
        "print(\"Total Number of Furniture Reviews: %f\" % total_reviews_count)\n",
        "\n",
        "help_reviews_count = helpful_50_df.count()\n",
        "print(\"Total Number of 'Helpful' Furniture Reviews: %f\" % help_reviews_count)"
      ],
      "execution_count": 19,
      "outputs": [
        {
          "output_type": "stream",
          "text": [
            "Total Number of Furniture Reviews: 792113.000000\n",
            "Total Number of 'Helpful' Furniture Reviews: 18155.000000\n"
          ],
          "name": "stdout"
        }
      ]
    },
    {
      "cell_type": "code",
      "metadata": {
        "colab": {
          "base_uri": "https://localhost:8080/"
        },
        "id": "LcjO7SUcrvRf",
        "outputId": "ea54136a-b296-4213-9cdd-02adccd74465"
      },
      "source": [
        "#Total number of ALL 5-star reviews\n",
        "star5_df = df.filter(df[\"star_rating\"] == '5')\n",
        "star5_df.show()\n",
        "\n",
        "star5_count = star5_df.count()\n",
        "print(\"Total Number of 5-Star Furniture Reviews: %f\" % star5_count)"
      ],
      "execution_count": 20,
      "outputs": [
        {
          "output_type": "stream",
          "text": [
            "+-----------+-----------+--------------+----------+--------------+--------------------+----------------+-----------+-------------+-----------+----+-----------------+--------------------+--------------------+-----------+\n",
            "|marketplace|customer_id|     review_id|product_id|product_parent|       product_title|product_category|star_rating|helpful_votes|total_votes|vine|verified_purchase|     review_headline|         review_body|review_date|\n",
            "+-----------+-----------+--------------+----------+--------------+--------------------+----------------+-----------+-------------+-----------+----+-----------------+--------------------+--------------------+-----------+\n",
            "|         US|   34731776|R16LGVMFKIUT0G|B0042TNMMS|     205864445|Dorel Home Produc...|       Furniture|          5|            0|          0|   N|                Y|          Five Stars|          Great item| 2015-08-31|\n",
            "|         US|    1272331|R1AIMEEPYHMOE4|B0030MPBZ4|     124663823|Bathroom Vanity T...|       Furniture|          5|            1|          1|   N|                Y|          Five Stars|Perfect fit for m...| 2015-08-31|\n",
            "|         US|   18311821| RLB33HJBXHZHU|B00AVUQQGQ|     574537906|Serta Bonded Leat...|       Furniture|          5|            0|          0|   N|                Y|          Five Stars|Love this product...| 2015-08-31|\n",
            "|         US|   42943632|R1VGTZ94DBAD6A|B00CFY20GQ|     407473883|Prepac Shoe Stora...|       Furniture|          5|            2|          2|   N|                Y|   I love this bench|I love this bench...| 2015-08-31|\n",
            "|         US|   43157304|R168KF82ICSOHD|B00FKC48QA|     435120460|HomCom PU Leather...|       Furniture|          5|            0|          0|   N|                Y|Great storage cap...|Have had this for...| 2015-08-31|\n",
            "|         US|   51918480|R20DIYIJ0OCMOG|B00N9IAL9K|     356495985|  Folding Step Stool|       Furniture|          5|            0|          0|   N|                Y|This is the best ...|This is the best ...| 2015-08-31|\n",
            "|         US|   14522766| RD46RNVOHNZSC|B001T4XU1C|     243050228|Ace Bayou Adult V...|       Furniture|          5|            0|          0|   N|                Y|    great for price!|    my son loves it!| 2015-08-31|\n",
            "|         US|   43054112|R2JDOCETTM3AXS|B002HRFLBC|      93574483|4D Concepts Audio...|       Furniture|          5|            0|          0|   N|                Y|          Five Stars|       Great product| 2015-08-31|\n",
            "|         US|   26622950|R33YMW36IDZ6LE|B006MISZOC|     941823468|Zinus SC-SBBK-14N...|       Furniture|          5|            0|          0|   N|                Y|             perfect|bought with sleep...| 2015-08-31|\n",
            "|         US|   17988940|R30ZGGUHZ04C1S|B008BMGABC|     460567746|Poundex Marble Di...|       Furniture|          5|            1|          1|   N|                Y|   Very satisfied!!!|Delivery was on t...| 2015-08-31|\n",
            "|         US|   18444952| RS2EZU76IK2BT|B00CO2VH5Y|     829613894|Safavieh Lyndhurs...|       Furniture|          5|            0|          0|   N|                Y|soft and great fo...|Exactly as pictur...| 2015-08-31|\n",
            "|         US|   16937084|R1GJC1BP028XO9|B00LI4RJQ0|     816478187|Sauder Boone Moun...|       Furniture|          5|            2|          3|   N|                Y|        Great table.|Beautiful table. ...| 2015-08-31|\n",
            "|         US|    2415090|R2F5WW7WNO5RRG|B001TJYPJ8|     854989315|Sleep Revolution ...|       Furniture|          5|            0|          0|   N|                Y|          Five Stars|Comfortable and e...| 2015-08-31|\n",
            "|         US|   48285966|R3UDJKVWQCFIC9|B000TMHX9A|     814079288|Flash Furniture V...|       Furniture|          5|            0|          0|   N|                Y|Very comfortable....|As advertised. Ve...| 2015-08-31|\n",
            "|         US|   33228559|R1MLGVJH3J5W6N|B005MZBB2O|     523675277|Amelia Floral Mut...|       Furniture|          5|            0|          0|   N|                Y|       Wonderful rug|Very nice rug for...| 2015-08-31|\n",
            "|         US|   11600823|R38JYICG7ESAZP|B00JITHL9C|     403803724|Classic Brands Lo...|       Furniture|          5|            3|          3|   N|                Y|Good USA made pro...|Product was as de...| 2015-08-31|\n",
            "|         US|   12546512|R2OM7LJ7CY084O|B007EEG7M0|     336731383|Range Kleen SS2 D...|       Furniture|          5|            0|          1|   N|                Y|          Five Stars|I love these stoo...| 2015-08-31|\n",
            "|         US|    5395378|R1ZG4UWGK123C3|B004LQ1RJ2|     999119538|Signature Sleep C...|       Furniture|          5|            0|          0|   N|                Y|          Five Stars|     so comfortable!| 2015-08-31|\n",
            "|         US|   34857314|R1ZOEOSEMAITN6|B000RPVKPC|     269111919|Coaster Home Furn...|       Furniture|          5|            0|          0|   N|                Y|          Five Stars|Love it!! Easy as...| 2015-08-31|\n",
            "|         US|   26511421|R38HR07J1KN5TE|B009QDA1LA|     119886213|Universal Bed Sla...|       Furniture|          5|            0|          0|   N|                Y|         Very sturdy|These rescued  my...| 2015-08-31|\n",
            "+-----------+-----------+--------------+----------+--------------+--------------------+----------------+-----------+-------------+-----------+----+-----------------+--------------------+--------------------+-----------+\n",
            "only showing top 20 rows\n",
            "\n",
            "Total Number of 5-Star Furniture Reviews: 447716.000000\n"
          ],
          "name": "stdout"
        }
      ]
    },
    {
      "cell_type": "code",
      "metadata": {
        "colab": {
          "base_uri": "https://localhost:8080/"
        },
        "id": "q7-sDWrHryr9",
        "outputId": "4fe33a41-85f7-4b43-a5fb-9db3cf149e5d"
      },
      "source": [
        "#Total number of 5-star HELPFUL reviews\n",
        "star5_help_df = helpful_50_df.filter(helpful_50_df[\"star_rating\"] == '5')\n",
        "star5_help_df.show()\n",
        "\n",
        "star5_help_count = star5_help_df.count()\n",
        "print(\"Total Number of 5-Star 'Helpful' Furniture Reviews: %f\" % star5_help_count)"
      ],
      "execution_count": 21,
      "outputs": [
        {
          "output_type": "stream",
          "text": [
            "+-----------+-----------+--------------+----------+--------------+--------------------+----------------+-----------+-------------+-----------+----+-----------------+--------------------+--------------------+-----------+\n",
            "|marketplace|customer_id|     review_id|product_id|product_parent|       product_title|product_category|star_rating|helpful_votes|total_votes|vine|verified_purchase|     review_headline|         review_body|review_date|\n",
            "+-----------+-----------+--------------+----------+--------------+--------------------+----------------+-----------+-------------+-----------+----+-----------------+--------------------+--------------------+-----------+\n",
            "|         US|   41681546| RL8D0KJ0J9L0O|B00BWC1X3S|     328960153|Zinus 14 Inch Eli...|       Furniture|          5|          152|        165|   N|                Y|A solid VICTORY f...|I've been looking...| 2015-08-31|\n",
            "|         US|   16806846|R1BEINAIQFBRJC|B007I81A60|      68465765|8\" Night Therapy ...|       Furniture|          5|           21|         23|   N|                Y|An Engineering Su...|A full size mattr...| 2015-08-31|\n",
            "|         US|   50476494| RR99CPG695T0I|B013L4ZWWW|     124365349|Arctic Dreams 10\"...|       Furniture|          5|          215|        248|   N|                N| QUALITY* SLEEP!!!!!|I decided to get ...| 2015-08-31|\n",
            "|         US|   21846903|R1XQNKKUPCMWVO|B00IPN64CC|     867520220|Upholstered Platf...|       Furniture|          5|           43|         44|   N|                Y|Black Tufted Desi...|I have to admit t...| 2015-08-31|\n",
            "|         US|   15624624| RTCRZARYY4LXX|B00E97HPLW|     132456290|Flash Furniture M...|       Furniture|          5|           52|         54|   N|                Y|comfortable/easy ...|Everything I expe...| 2015-08-31|\n",
            "|         US|   31278317| RJNDSWES5ISZ7|B00HTUOOBA|     995797488|Chrome Metal Bar ...|       Furniture|          5|           78|         79|   N|                Y|             AMAZING|this is a very be...| 2015-08-31|\n",
            "|         US|   21515203|R15R7STOZZP2A4|B002V1Q65Y|     320882925|Coaster Company P...|       Furniture|          5|           33|         34|   N|                Y|         Great deal!|Good quality bed....| 2015-08-31|\n",
            "|         US|    7691605|R10P6SDC1D6C3I|B00LZM5IOK|     420170495|Modway Lily Twin ...|       Furniture|          5|           23|         25|   N|                Y|Like it! My bed i...|Like it ! My bed ...| 2015-08-31|\n",
            "|         US|   46509642|R110G9UVLI2MLS|B00OKIPS0A|     415535727|Milton Greens Sta...|       Furniture|          5|           52|         55|   N|                Y|             Lovely!|For those living ...| 2015-08-31|\n",
            "|         US|   23511203|R1B76MPCS05UX9|B00P7RWWM0|     259554464|Mega Motion Easy ...|       Furniture|          5|           19|         21|   N|                Y|Great chair, Don'...|Ok this chair is ...| 2015-08-31|\n",
            "|         US|    6407891|R17PJIKAZ3U6BG|B00DW7LB0G|     366981061|Simpli Home Lared...|       Furniture|          5|           21|         21|   N|                Y|I love this beaut...|We love this benc...| 2015-08-30|\n",
            "|         US|    8113934|R2T3TLCX42RWLY|B009V5YVT6|     598492986|AVE SIX Reflectio...|       Furniture|          5|           46|         48|   N|                Y|      Beyond happy!!|Honestly, a pictu...| 2015-08-30|\n",
            "|         US|   48960668|R39YWJ09ZCPW7P|B00UXRSDF4|     949941628|2xhome - Black - ...|       Furniture|          5|           24|         28|   N|                Y|          Five Stars|Great chair great...| 2015-08-30|\n",
            "|         US|   27730443|R3JM7HESVLH0G9|B000SBJIFY|     595491245|TMS Tiffany Natur...|       Furniture|          5|           44|         44|   N|                Y|Great for small s...|It's perfect for ...| 2015-08-30|\n",
            "|         US|   19440640|R2Q53X3HCQNVML|B00CXPJG3C|     680349249|Reverie 7S Adjust...|       Furniture|          5|          141|        142|   N|                Y|This Bed Base sav...|I don’t “hang out...| 2015-08-30|\n",
            "|         US|     434516|R25KMMHJ2YX23G|B00HFQJFVW|     518045729|Dorel Living King...|       Furniture|          5|           21|         21|   N|                Y|This headboard is...|This headboard is...| 2015-08-29|\n",
            "|         US|   43374324|R2R34BM9Y1LQTQ|B009YQHO3W|     299279247|Convenience Conce...|       Furniture|          5|           35|         37|   N|                Y|Great quality at ...|Love this! The si...| 2015-08-29|\n",
            "|         US|   47591171|R136U4VZOMTEBP|B0034JXLGY|     419832011|Sauder Beginnings...|       Furniture|          5|           55|         57|   N|                Y|         Great Deal!|For the price, th...| 2015-08-29|\n",
            "|         US|   42860527|R2EGVZYZPED2SN|B00VKK3RCW|     476069686|Naomi Home Venice...|       Furniture|          5|           25|         28|   N|                Y|Great stadium chair.|Easy to use. Exac...| 2015-08-29|\n",
            "|         US|   38848281|R3UCKDORUOX8DR|B004JWVYBY|     197794057|Safavieh Heritage...|       Furniture|          5|           21|         21|   N|                Y|Love, Love, Love ...|Just got this tod...| 2015-08-29|\n",
            "+-----------+-----------+--------------+----------+--------------+--------------------+----------------+-----------+-------------+-----------+----+-----------------+--------------------+--------------------+-----------+\n",
            "only showing top 20 rows\n",
            "\n",
            "Total Number of 5-Star 'Helpful' Furniture Reviews: 8556.000000\n"
          ],
          "name": "stdout"
        }
      ]
    },
    {
      "cell_type": "code",
      "metadata": {
        "colab": {
          "base_uri": "https://localhost:8080/"
        },
        "id": "GM734M5PsLjS",
        "outputId": "2910a82f-9dde-47ee-b084-b0944056fd37"
      },
      "source": [
        "# Percentage of ALL 5-star reviews paid vs non-paid \n",
        "# 5-star Paid reviews \n",
        "vine_star5_all_df = star5_df.filter(star5_df[\"vine\"] == \"Y\")\n",
        "vine_star5_all_count = vine_star5_all_df.count()\n",
        "\n",
        "vine_star5_all_pct = (vine_star5_all_count/star5_count)\n",
        "print(\"Number of 5-Star Furniture Reviews PAID: %f\" % vine_star5_all_count)\n",
        "print(\"Percent of 5-Star Furniture Reviews PAID: %f\" % vine_star5_all_pct)\n",
        " \n",
        "#5-star Non-Paid reviews\n",
        "novine_star5_all_df = star5_df.filter(star5_df[\"vine\"] == \"N\")\n",
        "novine_star5_all_count = novine_star5_all_df.count()\n",
        "\n",
        "novine_star5_all_pct = novine_star5_all_count/star5_count\n",
        "print(\"Number of 5-Star Furniture Reviews NON-PAID: %f\" % novine_star5_all_count)\n",
        "print(\"Percent of 5-Star Furniture Reviews NON-PAID: %f\" % novine_star5_all_pct)"
      ],
      "execution_count": 22,
      "outputs": [
        {
          "output_type": "stream",
          "text": [
            "Number of 5-Star Furniture Reviews PAID: 1356.000000\n",
            "Percent of 5-Star Furniture Reviews PAID: 0.003029\n",
            "Number of 5-Star Furniture Reviews NON-PAID: 446360.000000\n",
            "Percent of 5-Star Furniture Reviews NON-PAID: 0.996971\n"
          ],
          "name": "stdout"
        }
      ]
    },
    {
      "cell_type": "code",
      "metadata": {
        "colab": {
          "base_uri": "https://localhost:8080/"
        },
        "id": "gVNLTJ82sRBv",
        "outputId": "c58f1dc1-435c-489a-f26e-b11af9c37ed2"
      },
      "source": [
        "# Percentage of HELPFUL 5-star reviews paid vs non-paid (% of 5 star reviews in Step 3 dataframe) \n",
        "# 5-star Paid \"helpful\" reviews \n",
        "vine_star5_help_df = star5_help_df.filter(star5_help_df[\"vine\"] == \"Y\")\n",
        "vine_star5_help_count = vine_star5_help_df.count()\n",
        "\n",
        "vine_star5_help_pct = (vine_star5_help_count/star5_help_count)\n",
        "print(\"Number of 5-Star, 'Helpful' Furniture Reviews PAID: %f\" % vine_star5_help_count)\n",
        "print(\"Percent of 5-Star,'Helpful'Furniture Reviews PAID: %f\" % vine_star5_help_pct)\n",
        " \n",
        "#5-star Non-Paid \"helpful\" reviews\n",
        "novine_star5_help_df = star5_help_df.filter(star5_help_df[\"vine\"] == \"N\")\n",
        "novine_star5_help_count = novine_star5_help_df.count()\n",
        "\n",
        "novine_star5_help_pct = novine_star5_help_count/star5_help_count\n",
        "print(\"Number of 5-Star, 'Helpful' Furniture Reviews NON-PAID: %f\" % novine_star5_help_count)\n",
        "print(\"Percent of 5-Star,'Helpful'Furniture Reviews NON-PAID: %f\" % novine_star5_help_pct)"
      ],
      "execution_count": 23,
      "outputs": [
        {
          "output_type": "stream",
          "text": [
            "Number of 5-Star, 'Helpful' Furniture Reviews PAID: 74.000000\n",
            "Percent of 5-Star,'Helpful'Furniture Reviews PAID: 0.008649\n",
            "Number of 5-Star, 'Helpful' Furniture Reviews NON-PAID: 8482.000000\n",
            "Percent of 5-Star,'Helpful'Furniture Reviews NON-PAID: 0.991351\n"
          ],
          "name": "stdout"
        }
      ]
    },
    {
      "cell_type": "code",
      "metadata": {
        "colab": {
          "base_uri": "https://localhost:8080/"
        },
        "id": "U_J7NtSCsV5C",
        "outputId": "c7025d38-4dbc-4a9d-ca31-c39837d44e6a"
      },
      "source": [
        "#Percent of Vine vs non-Vine all reviews\n",
        "vine_all_df = df.filter(df[\"vine\"] == \"Y\")\n",
        "novine_all_df = df.filter(df[\"vine\"] == \"N\")\n",
        "vine_pct_all = (vine_all_df.count()/df.count())\n",
        "novine_pct_all = (novine_all_df.count()/df.count())\n",
        "\n",
        "\n",
        "print(df.count())\n",
        "print(vine_all_df.count())\n",
        "print(novine_all_df.count())\n",
        "print(vine_pct_all)\n",
        "print(novine_pct_all)"
      ],
      "execution_count": 24,
      "outputs": [
        {
          "output_type": "stream",
          "text": [
            "792113\n",
            "2775\n",
            "789338\n",
            "0.003503288040973952\n",
            "0.996496711959026\n"
          ],
          "name": "stdout"
        }
      ]
    },
    {
      "cell_type": "code",
      "metadata": {
        "colab": {
          "base_uri": "https://localhost:8080/"
        },
        "id": "KiR0XhrmsbsX",
        "outputId": "b22709c1-c786-4a06-ae4f-2a39ff6e9e3a"
      },
      "source": [
        "# Percent of All Vine that is 5-Star\n",
        "vine_all_star5_df = vine_all_df.filter(vine_all_df[\"star_rating\"] == '5')\n",
        "vine_all_star_df = vine_all_df.filter(vine_all_df[\"star_rating\"] != '5')\n",
        "\n",
        "novine_all_star5_df = novine_all_df.filter(novine_all_df[\"star_rating\"] == '5')\n",
        "novine_all_star_df = novine_all_df.filter(novine_all_df[\"star_rating\"] != '5')\n",
        "\n",
        "vine_pct_star5_all = (vine_all_star5_df.count()/vine_all_df.count())\n",
        "novine_pct_star5_all = (novine_all_star5_df.count()/novine_all_df.count())\n",
        "\n",
        "print(vine_all_star5_df.count())\n",
        "print(vine_all_star_df.count())\n",
        "\n",
        "print(novine_all_star5_df.count())\n",
        "print(novine_all_star_df.count())\n",
        "\n",
        "print(vine_pct_star5_all)\n",
        "print(novine_pct_star5_all)"
      ],
      "execution_count": 25,
      "outputs": [
        {
          "output_type": "stream",
          "text": [
            "1356\n",
            "1419\n",
            "446360\n",
            "342978\n",
            "0.48864864864864865\n",
            "0.5654865216168485\n"
          ],
          "name": "stdout"
        }
      ]
    },
    {
      "cell_type": "code",
      "metadata": {
        "colab": {
          "base_uri": "https://localhost:8080/"
        },
        "id": "DhjQJdoVseOn",
        "outputId": "b01473a3-63eb-4903-ad1c-f4630543b1a2"
      },
      "source": [
        "# Pull out all Vine reviewed products\n",
        "vine_prod_df = vine_all_df.select(vine_all_df[\"product_id\"]).dropDuplicates()\n",
        "vine_prod_df.show()\n",
        "vine_prod_df.count()"
      ],
      "execution_count": 27,
      "outputs": [
        {
          "output_type": "stream",
          "text": [
            "+----------+\n",
            "|product_id|\n",
            "+----------+\n",
            "|B00DL1AG4A|\n",
            "|B00IMV6Q3Y|\n",
            "|B00CPIV9BE|\n",
            "|B00R465FZS|\n",
            "|B007SB0554|\n",
            "|B00HAR2A1I|\n",
            "|B0030GJAHK|\n",
            "|B00J38BRQG|\n",
            "|B00FU0D2KK|\n",
            "|B00WO0SQ4Q|\n",
            "|B007T58QPU|\n",
            "|B00H4SSFLM|\n",
            "|B00CPIVB1W|\n",
            "|B00CP2II9Q|\n",
            "|B00T2XF8B2|\n",
            "|B003PJ650C|\n",
            "|B00EPRCAVG|\n",
            "|B005ETZIMM|\n",
            "|B00O32ZX4Y|\n",
            "|B00FL0239U|\n",
            "+----------+\n",
            "only showing top 20 rows\n",
            "\n"
          ],
          "name": "stdout"
        },
        {
          "output_type": "execute_result",
          "data": {
            "text/plain": [
              "421"
            ]
          },
          "metadata": {
            "tags": []
          },
          "execution_count": 27
        }
      ]
    },
    {
      "cell_type": "code",
      "metadata": {
        "colab": {
          "base_uri": "https://localhost:8080/"
        },
        "id": "xhhd028BsgLL",
        "outputId": "9d54b8c8-453e-45b5-dd00-fe4f02c8bf9d"
      },
      "source": [
        "# create an inner join between all the Vine Reviews df and the full df\n",
        "inner_join = vine_prod_df.join(df, vine_all_df.product_id == df.product_id, how=\"inner\").dropDuplicates()\n",
        "inner_join.show()\n",
        "inner_join.count()"
      ],
      "execution_count": 28,
      "outputs": [
        {
          "output_type": "stream",
          "text": [
            "+----------+-----------+-----------+--------------+----------+--------------+--------------------+----------------+-----------+-------------+-----------+----+-----------------+--------------------+--------------------+-----------+\n",
            "|product_id|marketplace|customer_id|     review_id|product_id|product_parent|       product_title|product_category|star_rating|helpful_votes|total_votes|vine|verified_purchase|     review_headline|         review_body|review_date|\n",
            "+----------+-----------+-----------+--------------+----------+--------------+--------------------+----------------+-----------+-------------+-----------+----+-----------------+--------------------+--------------------+-----------+\n",
            "|B00DL1AG4A|         US|   21287734|R278IHKE94IZFT|B00DL1AG4A|     987680523|Bush Furniture Ae...|       Furniture|          4|            1|          1|   Y|                N|More stylish than...|This cabinet is a...| 2015-02-02|\n",
            "|B00DL1AG4A|         US|   42602916|R2MFYCTRF82JSN|B00DL1AG4A|     987680523|Bush Furniture Ae...|       Furniture|          5|            4|          4|   Y|                N|Much More Impress...|OK, so it took me...| 2015-01-17|\n",
            "|B00DL1AG4A|         US|   30566260|R3V5OVE5VRD1BE|B00DL1AG4A|     987680523|Bush Furniture Ae...|       Furniture|          4|            1|          1|   Y|                N|      BUSH FURNITURE|I love it!!  If y...| 2015-01-10|\n",
            "|B00DL1AG4A|         US|   22896992| RFEGCCMNTPO6L|B00DL1AG4A|     987680523|Bush Furniture Ae...|       Furniture|          4|            2|          3|   Y|                N|A beautiful cabin...|You do get a pret...| 2015-01-05|\n",
            "|B00DL1AG4A|         US|   43897601|R2VZAWFVZS8FFP|B00DL1AG4A|     987680523|Bush Furniture Ae...|       Furniture|          5|            1|          1|   Y|                N|Excellent cabinet...|I am using this t...| 2015-01-05|\n",
            "|B00DL1AG4A|         US|   15699015|R2RX4XSD7I724L|B00DL1AG4A|     987680523|Bush Furniture Ae...|       Furniture|          5|            6|          6|   Y|                N|Sturdy, Excellent...|A few days ago I ...| 2015-01-04|\n",
            "|B00DL1AG4A|         US|   36944012|R14XXOXUATSFXP|B00DL1AG4A|     987680523|Bush Furniture Ae...|       Furniture|          4|            1|          1|   Y|                N|Attractive storag...|First thing I not...| 2014-12-31|\n",
            "|B00DL1AG4A|         US|   50413437|R1YFSV4EY2N9TF|B00DL1AG4A|     987680523|Bush Furniture Ae...|       Furniture|          5|            4|          4|   Y|                N|Great Starter Pie...|This is an attrac...| 2014-12-30|\n",
            "|B00IMV6Q3Y|         US|   39526020|R3ARTJCTBUFNUV|B00IMV6Q3Y|      36874631|Serta Perfect Sle...|       Furniture|          5|            1|          2|   N|                Y|She seemed to be ...|I am commenting t...| 2015-01-12|\n",
            "|B00IMV6Q3Y|         US|   50564860|R3R2O57XEHTG1C|B00IMV6Q3Y|      36874631|Serta Perfect Sle...|       Furniture|          4|            5|          5|   Y|                N|Nice high quality...|I've been using t...| 2014-06-26|\n",
            "|B00IMV6Q3Y|         US|   14461943|R17DJ1FCVFOVRK|B00IMV6Q3Y|      36874631|Serta Perfect Sle...|       Furniture|          5|            4|          4|   Y|                N|Great balance bet...|The Canyon Ridge ...| 2014-06-18|\n",
            "|B00IMV6Q3Y|         US|   29744123| RNAKZ8DL3EPX5|B00IMV6Q3Y|      36874631|Serta Perfect Sle...|       Furniture|          5|            4|          5|   Y|                N|Is it possible to...|If so -- and I su...| 2014-06-06|\n",
            "|B00CPIV9BE|         US|   17132648|R20RMSLJWPF7VH|B00CPIV9BE|      58070008|Beautyrest Rechar...|       Furniture|          4|            1|          1|   Y|                N|   Good Nights Sleep|I was very excite...| 2013-08-05|\n",
            "|B007SB0554|         US|   23705182| REPS0XQNMF9OM|B007SB0554|     534624126|South Shore Flexi...|       Furniture|          4|            1|          1|   N|                Y|Great looking but...|product looks gre...| 2014-11-29|\n",
            "|B007SB0554|         US|   44249079|R3UJ3WQ7ZS7YGT|B007SB0554|     534624126|South Shore Flexi...|       Furniture|          1|            0|          0|   N|                Y|Long assembly is ...|It says not to us...| 2014-11-28|\n",
            "|B007SB0554|         US|   25591162|R2TZIBKTG92WLD|B007SB0554|     534624126|South Shore Flexi...|       Furniture|          5|            0|          0|   N|                Y|Good Quality and ...|Good quality for ...| 2014-09-17|\n",
            "|B007SB0554|         US|   49005234|R2YAR7CY2XO5U7|B007SB0554|     534624126|South Shore Flexi...|       Furniture|          3|            0|          0|   N|                Y|             Damaged|Came damaged, was...| 2014-08-12|\n",
            "|B007SB0554|         US|   14231385|R12I1W15ILXWTR|B007SB0554|     534624126|South Shore Flexi...|       Furniture|          5|            2|          2|   N|                Y|Great dresser, de...|This dresser is g...| 2014-02-25|\n",
            "|B007SB0554|         US|   14392655|R2PI7YMXDYIHRC|B007SB0554|     534624126|South Shore Flexi...|       Furniture|          3|            0|          0|   N|                Y|Get what you pay for|We needed a quick...| 2014-02-12|\n",
            "|B007SB0554|         US|    6176221| R8VCQ744IRY5N|B007SB0554|     534624126|South Shore Flexi...|       Furniture|          1|            1|          1|   N|                Y|Expect to have to...|I thought I knew ...| 2014-02-04|\n",
            "+----------+-----------+-----------+--------------+----------+--------------+--------------------+----------------+-----------+-------------+-----------+----+-----------------+--------------------+--------------------+-----------+\n",
            "only showing top 20 rows\n",
            "\n"
          ],
          "name": "stdout"
        },
        {
          "output_type": "execute_result",
          "data": {
            "text/plain": [
              "10689"
            ]
          },
          "metadata": {
            "tags": []
          },
          "execution_count": 28
        }
      ]
    },
    {
      "cell_type": "code",
      "metadata": {
        "colab": {
          "base_uri": "https://localhost:8080/"
        },
        "id": "e90bvpGNsohy",
        "outputId": "2e46da4a-7637-4005-b4bc-55a113271747"
      },
      "source": [
        "# Rating breakdown \n",
        "new_df = inner_join.groupby(\"star_rating\").count()\n",
        "new_df.show()"
      ],
      "execution_count": 29,
      "outputs": [
        {
          "output_type": "stream",
          "text": [
            "+-----------+-----+\n",
            "|star_rating|count|\n",
            "+-----------+-----+\n",
            "|          1|  663|\n",
            "|          3|  933|\n",
            "|          5| 6093|\n",
            "|          4| 2471|\n",
            "|          2|  529|\n",
            "+-----------+-----+\n",
            "\n"
          ],
          "name": "stdout"
        }
      ]
    },
    {
      "cell_type": "code",
      "metadata": {
        "colab": {
          "base_uri": "https://localhost:8080/"
        },
        "id": "9eChYzeXsrhH",
        "outputId": "076a8d8a-452d-4b5f-da2e-fab55ac266f2"
      },
      "source": [
        "# Total Vine Reviews for Vine Products\n",
        "vine_new_df = inner_join.filter(inner_join[\"vine\"] == \"Y\")\n",
        "vine_new_df.count()"
      ],
      "execution_count": 30,
      "outputs": [
        {
          "output_type": "execute_result",
          "data": {
            "text/plain": [
              "2775"
            ]
          },
          "metadata": {
            "tags": []
          },
          "execution_count": 30
        }
      ]
    },
    {
      "cell_type": "code",
      "metadata": {
        "colab": {
          "base_uri": "https://localhost:8080/"
        },
        "id": "xtvLg-ins1nE",
        "outputId": "0741f7ba-fa5f-42c1-bfbd-2c6548e01ac4"
      },
      "source": [
        "# Total Vine Reviews for Vine Products\n",
        "novine_new_df = inner_join.filter(inner_join[\"vine\"] == \"N\")\n",
        "novine_new_df.count()"
      ],
      "execution_count": 31,
      "outputs": [
        {
          "output_type": "execute_result",
          "data": {
            "text/plain": [
              "7914"
            ]
          },
          "metadata": {
            "tags": []
          },
          "execution_count": 31
        }
      ]
    },
    {
      "cell_type": "code",
      "metadata": {
        "colab": {
          "base_uri": "https://localhost:8080/"
        },
        "id": "7xD3y6tOs3fO",
        "outputId": "0e6a0e8d-5479-454b-fbf8-95cd8281d5a2"
      },
      "source": [
        "# % of 5-star reviews are Vine or non-Vine Reviews\n",
        "vine_star5_new = vine_new_df.groupby(\"star_rating\").count()\n",
        "vine_star5_new.show()"
      ],
      "execution_count": 32,
      "outputs": [
        {
          "output_type": "stream",
          "text": [
            "+-----------+-----+\n",
            "|star_rating|count|\n",
            "+-----------+-----+\n",
            "|          1|   50|\n",
            "|          3|  305|\n",
            "|          5| 1356|\n",
            "|          4|  961|\n",
            "|          2|  103|\n",
            "+-----------+-----+\n",
            "\n"
          ],
          "name": "stdout"
        }
      ]
    },
    {
      "cell_type": "code",
      "metadata": {
        "colab": {
          "base_uri": "https://localhost:8080/"
        },
        "id": "3mKsIcivs5JL",
        "outputId": "a579c7d9-ebf6-494f-e0dd-088edff243e7"
      },
      "source": [
        "# % of 5-star reviews are Vine or non-Vine Reviews\n",
        "novine_star5_new = novine_new_df.groupby(\"star_rating\").count()\n",
        "novine_star5_new.show()"
      ],
      "execution_count": 33,
      "outputs": [
        {
          "output_type": "stream",
          "text": [
            "+-----------+-----+\n",
            "|star_rating|count|\n",
            "+-----------+-----+\n",
            "|          1|  613|\n",
            "|          3|  628|\n",
            "|          5| 4737|\n",
            "|          4| 1510|\n",
            "|          2|  426|\n",
            "+-----------+-----+\n",
            "\n"
          ],
          "name": "stdout"
        }
      ]
    },
    {
      "cell_type": "code",
      "metadata": {
        "id": "Exuo6ebUsCqW"
      },
      "source": [
        ""
      ],
      "execution_count": 17,
      "outputs": []
    }
  ]
}